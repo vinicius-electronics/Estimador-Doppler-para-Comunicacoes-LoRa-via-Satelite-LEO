{
  "metadata": {
    "kernelspec": {
      "name": "python",
      "display_name": "Python (Pyodide)",
      "language": "python"
    },
    "language_info": {
      "codemirror_mode": {
        "name": "python",
        "version": 3
      },
      "file_extension": ".py",
      "mimetype": "text/x-python",
      "name": "python",
      "nbconvert_exporter": "python",
      "pygments_lexer": "ipython3",
      "version": "3.8"
    }
  },
  "nbformat_minor": 4,
  "nbformat": 4,
  "cells": [
    {
      "cell_type": "code",
      "source": "import numpy as np",
      "metadata": {
        "trusted": true
      },
      "outputs": [],
      "execution_count": 60
    },
    {
      "cell_type": "code",
      "source": "g = 9.81 #Aceleração gravitacional no nível do mar [m/(s^2)]",
      "metadata": {
        "trusted": true
      },
      "outputs": [],
      "execution_count": 61
    },
    {
      "cell_type": "code",
      "source": "R = 6371e3 #Raio da Terra [m]",
      "metadata": {
        "trusted": true
      },
      "outputs": [],
      "execution_count": 62
    },
    {
      "cell_type": "code",
      "source": "H = 550e3 #Altitude do satélite starlink v1.0 [Km]",
      "metadata": {
        "trusted": true
      },
      "outputs": [],
      "execution_count": 63
    },
    {
      "cell_type": "code",
      "source": "f_c = 868.1e6 #Frequência de portadora [Hz]",
      "metadata": {
        "trusted": true
      },
      "outputs": [],
      "execution_count": 64
    },
    {
      "cell_type": "code",
      "source": "c = 3e8 #Velocidade da luz no vácuo [m/s]",
      "metadata": {
        "trusted": true
      },
      "outputs": [],
      "execution_count": 65
    },
    {
      "cell_type": "code",
      "source": "def avaliar_fatores(g, R, H, f_c, c):\n    # Avaliando o coeficiente de psi\n    fator_psi = (np.sqrt(g/R) / (1 + H/R)**(3/2))\n    \n    # Avaliando termos de f_d\n    termo1 = f_c / c\n    termo2 = np.sqrt(g * R / (1 + H/R))\n    termo3 = (1 + H/R)**2\n    termo4 = (1 + H/R)\n    fator_1 = termo1 * termo2\n\n    return fator_psi, fator_1, termo3, termo4",
      "metadata": {
        "trusted": true
      },
      "outputs": [],
      "execution_count": 66
    },
    {
      "cell_type": "code",
      "source": "fator_psi, fator_1, termo3, termo4 = avaliar_fatores(g, R, H, f_c, c)",
      "metadata": {
        "trusted": true
      },
      "outputs": [],
      "execution_count": 72
    },
    {
      "cell_type": "code",
      "source": "print(\"fator_psi:\", fator_psi)",
      "metadata": {
        "trusted": true
      },
      "outputs": [
        {
          "name": "stdout",
          "text": "fator_psi: 0.0010959451899804475\n",
          "output_type": "stream"
        }
      ],
      "execution_count": 73
    },
    {
      "cell_type": "code",
      "source": "print(\"fator_1:\", fator_1)",
      "metadata": {
        "trusted": true
      },
      "outputs": [
        {
          "name": "stdout",
          "text": "fator_1: 21948.56774806615\n",
          "output_type": "stream"
        }
      ],
      "execution_count": 74
    },
    {
      "cell_type": "code",
      "source": "print(\"termo_3:\", termo3)",
      "metadata": {
        "trusted": true
      },
      "outputs": [
        {
          "name": "stdout",
          "text": "termo_3: 1.1801099940745967\n",
          "output_type": "stream"
        }
      ],
      "execution_count": 75
    },
    {
      "cell_type": "code",
      "source": "print(\"termo_4:\", termo4)",
      "metadata": {
        "trusted": true
      },
      "outputs": [
        {
          "name": "stdout",
          "text": "termo_4: 1.0863286768168263\n",
          "output_type": "stream"
        }
      ],
      "execution_count": 76
    }
  ]
}