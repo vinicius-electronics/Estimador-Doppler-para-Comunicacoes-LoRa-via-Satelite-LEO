{
  "metadata": {
    "kernelspec": {
      "name": "python",
      "display_name": "Python (Pyodide)",
      "language": "python"
    },
    "language_info": {
      "codemirror_mode": {
        "name": "python",
        "version": 3
      },
      "file_extension": ".py",
      "mimetype": "text/x-python",
      "name": "python",
      "nbconvert_exporter": "python",
      "pygments_lexer": "ipython3",
      "version": "3.8"
    }
  },
  "nbformat_minor": 5,
  "nbformat": 4,
  "cells": [
    {
      "id": "f3ec1f45-7859-4ef6-b588-09523504cc05",
      "cell_type": "code",
      "source": "# Defina o caminho do arquivo\nfile_path = '/drive/notebooks/Testes Sem Compensador/SNR_9_CLK_100' #Aqui pode ser escolhido o caminho onde o arquivo será armazenado, dentro do ambiente Jupyter Notebook\n\n# Inicialize o contador\ncount = 0\nsearch_bytes = b'TEST:'\n\ntry:\n    # Abra o arquivo para leitura em modo binário\n    with open(file_path, 'rb') as file:\n        # Leia o conteúdo do arquivo\n        content = file.read()\n        # Conte as ocorrências de \"TEST:\"\n        count = content.count(search_bytes)\n\n    # Exiba o número de ocorrências\n    print(f'Número de ocorrências de \"TEST:\": {count}')\nexcept FileNotFoundError:\n    print(f'Erro: O arquivo {file_path} não foi encontrado.')\nexcept Exception as e:\n    print(f'Ocorreu um erro: {e}')\n",
      "metadata": {
        "trusted": true
      },
      "outputs": [
        {
          "name": "stdout",
          "text": "Número de ocorrências de \"TEST:\": 339\n",
          "output_type": "stream"
        }
      ],
      "execution_count": 24
    },
    {
      "id": "581cf085-6079-434a-8885-28f8a29fb010",
      "cell_type": "code",
      "source": "",
      "metadata": {
        "trusted": true
      },
      "outputs": [],
      "execution_count": null
    }
  ]
}